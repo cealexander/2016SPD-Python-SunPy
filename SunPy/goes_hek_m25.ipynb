{
 "cells": [
  {
   "cell_type": "code",
   "execution_count": 1,
   "metadata": {
    "collapsed": false
   },
   "outputs": [],
   "source": [
    "%matplotlib inline"
   ]
  },
  {
   "cell_type": "markdown",
   "metadata": {},
   "source": [
    "\n",
    "# GOES Flare and HEK Plot Example\n",
    "\n",
    "\n",
    "An example showing how to combine GOES and HEK data\n"
   ]
  },
  {
   "cell_type": "code",
   "execution_count": 6,
   "metadata": {
    "collapsed": false
   },
   "outputs": [],
   "source": [
    "import matplotlib.pyplot as plt\n",
    "from sunpy.lightcurve import GOESLightCurve\n",
    "from sunpy.time import TimeRange, parse_time\n",
    "from sunpy.net import hek\n",
    "from sunpy.instr import goes"
   ]
  },
  {
   "cell_type": "markdown",
   "metadata": {},
   "source": [
    "Let's first grab GOES XRS data for a particular time of interest\n"
   ]
  },
  {
   "cell_type": "code",
   "execution_count": 7,
   "metadata": {
    "collapsed": false
   },
   "outputs": [
    {
     "name": "stderr",
     "output_type": "stream",
     "text": [
      "/Users/dnryan/anaconda2/lib/python2.7/site-packages/sunpy/lightcurve/lightcurve.py:294: RuntimeWarning: Using existing file rather than downloading, use overwrite=True to override.\n",
      "  warnings.warn(\"Using existing file rather than downloading, use overwrite=True to override.\", RuntimeWarning)\n"
     ]
    }
   ],
   "source": [
    "tr = TimeRange(['2011-06-07 04:00', '2011-06-07 12:00'])\n",
    "goeslc = GOESLightCurve.create(tr)"
   ]
  },
  {
   "cell_type": "markdown",
   "metadata": {},
   "source": [
    "Next lets grab the HEK data for this time from the NOAA Space Weather Prediction Center (SWPC)\n"
   ]
  },
  {
   "cell_type": "code",
   "execution_count": 8,
   "metadata": {
    "collapsed": false
   },
   "outputs": [],
   "source": [
    "client = hek.HEKClient()\n",
    "flares_hek = client.query(hek.attrs.Time(tr.start,tr.end), hek.attrs.FL, hek.attrs.FRM.Name == 'SWPC')"
   ]
  },
  {
   "cell_type": "markdown",
   "metadata": {},
   "source": [
    "Finally lets plot everything together\n"
   ]
  },
  {
   "cell_type": "code",
   "execution_count": 9,
   "metadata": {
    "collapsed": false
   },
   "outputs": [
    {
     "data": {
      "text/plain": [
       "<matplotlib.legend.Legend at 0x11d0aed90>"
      ]
     },
     "execution_count": 9,
     "metadata": {},
     "output_type": "execute_result"
    },
    {
     "data": {
      "image/png": "[encoded data removed]",
      "text/plain": [
       "<matplotlib.figure.Figure at 0x11cb559d0>"
      ]
     },
     "metadata": {},
     "output_type": "display_data"
    }
   ],
   "source": [
    "goeslc.peek()\n",
    "plt.axvline(parse_time(flares_hek[0].get('event_peaktime')))\n",
    "plt.axvspan(parse_time(flares_hek[0].get('event_starttime')), parse_time(flares_hek[0].get('event_endtime')),\n",
    "            alpha=0.2, label=flares_hek[0].get('fl_goescls'))\n",
    "plt.legend(loc=2)"
   ]
  },
  {
   "cell_type": "markdown",
   "metadata": {},
   "source": [
    "Let's calculate the temperature and emission measure of the plasma."
   ]
  },
  {
   "cell_type": "code",
   "execution_count": 14,
   "metadata": {
    "collapsed": true
   },
   "outputs": [],
   "source": [
    "goeslc = goes.calculate_temperature_em(goeslc)"
   ]
  },
  {
   "cell_type": "code",
   "execution_count": 20,
   "metadata": {
    "collapsed": false
   },
   "outputs": [
    {
     "data": {
      "text/html": [
       "<div>\n",
       "<table border=\"1\" class=\"dataframe\">\n",
       "  <thead>\n",
       "    <tr style=\"text-align: right;\">\n",
       "      <th></th>\n",
       "      <th>xrsa</th>\n",
       "      <th>xrsb</th>\n",
       "      <th>temperature</th>\n",
       "      <th>em</th>\n",
       "    </tr>\n",
       "  </thead>\n",
       "  <tbody>\n",
       "    <tr>\n",
       "      <th>2011-06-07 04:00:01.321999</th>\n",
       "      <td>1.000000e-09</td>\n",
       "      <td>1.834600e-07</td>\n",
       "      <td>3.534262</td>\n",
       "      <td>2.055847e+48</td>\n",
       "    </tr>\n",
       "    <tr>\n",
       "      <th>2011-06-07 04:00:03.371999</th>\n",
       "      <td>1.000000e-09</td>\n",
       "      <td>1.808400e-07</td>\n",
       "      <td>3.550100</td>\n",
       "      <td>1.990333e+48</td>\n",
       "    </tr>\n",
       "    <tr>\n",
       "      <th>2011-06-07 04:00:05.418999</th>\n",
       "      <td>1.000000e-09</td>\n",
       "      <td>1.782200e-07</td>\n",
       "      <td>3.566302</td>\n",
       "      <td>1.925944e+48</td>\n",
       "    </tr>\n",
       "    <tr>\n",
       "      <th>2011-06-07 04:00:07.468999</th>\n",
       "      <td>1.000000e-09</td>\n",
       "      <td>1.808400e-07</td>\n",
       "      <td>3.550100</td>\n",
       "      <td>1.990333e+48</td>\n",
       "    </tr>\n",
       "    <tr>\n",
       "      <th>2011-06-07 04:00:09.514999</th>\n",
       "      <td>1.000000e-09</td>\n",
       "      <td>1.782200e-07</td>\n",
       "      <td>3.566302</td>\n",
       "      <td>1.925944e+48</td>\n",
       "    </tr>\n",
       "    <tr>\n",
       "      <th>2011-06-07 04:00:11.561999</th>\n",
       "      <td>1.000000e-09</td>\n",
       "      <td>1.808400e-07</td>\n",
       "      <td>3.550100</td>\n",
       "      <td>1.990333e+48</td>\n",
       "    </tr>\n",
       "    <tr>\n",
       "      <th>2011-06-07 04:00:13.608999</th>\n",
       "      <td>1.000000e-09</td>\n",
       "      <td>1.808400e-07</td>\n",
       "      <td>3.550100</td>\n",
       "      <td>1.990333e+48</td>\n",
       "    </tr>\n",
       "    <tr>\n",
       "      <th>2011-06-07 04:00:15.658999</th>\n",
       "      <td>1.000000e-09</td>\n",
       "      <td>1.808400e-07</td>\n",
       "      <td>3.550100</td>\n",
       "      <td>1.990333e+48</td>\n",
       "    </tr>\n",
       "    <tr>\n",
       "      <th>2011-06-07 04:00:17.704999</th>\n",
       "      <td>1.000000e-09</td>\n",
       "      <td>1.782200e-07</td>\n",
       "      <td>3.566302</td>\n",
       "      <td>1.925944e+48</td>\n",
       "    </tr>\n",
       "    <tr>\n",
       "      <th>2011-06-07 04:00:19.754999</th>\n",
       "      <td>1.000000e-09</td>\n",
       "      <td>1.755900e-07</td>\n",
       "      <td>3.582963</td>\n",
       "      <td>1.862406e+48</td>\n",
       "    </tr>\n",
       "  </tbody>\n",
       "</table>\n",
       "</div>"
      ],
      "text/plain": [
       "                                    xrsa          xrsb  temperature  \\\n",
       "2011-06-07 04:00:01.321999  1.000000e-09  1.834600e-07     3.534262   \n",
       "2011-06-07 04:00:03.371999  1.000000e-09  1.808400e-07     3.550100   \n",
       "2011-06-07 04:00:05.418999  1.000000e-09  1.782200e-07     3.566302   \n",
       "2011-06-07 04:00:07.468999  1.000000e-09  1.808400e-07     3.550100   \n",
       "2011-06-07 04:00:09.514999  1.000000e-09  1.782200e-07     3.566302   \n",
       "2011-06-07 04:00:11.561999  1.000000e-09  1.808400e-07     3.550100   \n",
       "2011-06-07 04:00:13.608999  1.000000e-09  1.808400e-07     3.550100   \n",
       "2011-06-07 04:00:15.658999  1.000000e-09  1.808400e-07     3.550100   \n",
       "2011-06-07 04:00:17.704999  1.000000e-09  1.782200e-07     3.566302   \n",
       "2011-06-07 04:00:19.754999  1.000000e-09  1.755900e-07     3.582963   \n",
       "\n",
       "                                      em  \n",
       "2011-06-07 04:00:01.321999  2.055847e+48  \n",
       "2011-06-07 04:00:03.371999  1.990333e+48  \n",
       "2011-06-07 04:00:05.418999  1.925944e+48  \n",
       "2011-06-07 04:00:07.468999  1.990333e+48  \n",
       "2011-06-07 04:00:09.514999  1.925944e+48  \n",
       "2011-06-07 04:00:11.561999  1.990333e+48  \n",
       "2011-06-07 04:00:13.608999  1.990333e+48  \n",
       "2011-06-07 04:00:15.658999  1.990333e+48  \n",
       "2011-06-07 04:00:17.704999  1.925944e+48  \n",
       "2011-06-07 04:00:19.754999  1.862406e+48  "
      ]
     },
     "execution_count": 20,
     "metadata": {},
     "output_type": "execute_result"
    }
   ],
   "source": [
    "goeslc.data[0:10]"
   ]
  },
  {
   "cell_type": "code",
   "execution_count": 21,
   "metadata": {
    "collapsed": false
   },
   "outputs": [
    {
     "data": {
      "text/plain": [
       "DatetimeIndex(['2011-06-07 04:00:01.321999', '2011-06-07 04:00:03.371999',\n",
       "               '2011-06-07 04:00:05.418999', '2011-06-07 04:00:07.468999',\n",
       "               '2011-06-07 04:00:09.514999', '2011-06-07 04:00:11.561999',\n",
       "               '2011-06-07 04:00:13.608999', '2011-06-07 04:00:15.658999',\n",
       "               '2011-06-07 04:00:17.704999', '2011-06-07 04:00:19.754999'],\n",
       "              dtype='datetime64[ns]', freq=None)"
      ]
     },
     "execution_count": 21,
     "metadata": {},
     "output_type": "execute_result"
    }
   ],
   "source": [
    "goeslc.data.index[0:10]"
   ]
  },
  {
   "cell_type": "code",
   "execution_count": 25,
   "metadata": {
    "collapsed": false
   },
   "outputs": [
    {
     "data": {
      "text/plain": [
       "2011-06-07 04:00:01.321999    3.534262\n",
       "2011-06-07 04:00:03.371999    3.550100\n",
       "2011-06-07 04:00:05.418999    3.566302\n",
       "2011-06-07 04:00:07.468999    3.550100\n",
       "2011-06-07 04:00:09.514999    3.566302\n",
       "2011-06-07 04:00:11.561999    3.550100\n",
       "2011-06-07 04:00:13.608999    3.550100\n",
       "2011-06-07 04:00:15.658999    3.550100\n",
       "2011-06-07 04:00:17.704999    3.566302\n",
       "2011-06-07 04:00:19.754999    3.582963\n",
       "Name: temperature, dtype: float64"
      ]
     },
     "execution_count": 25,
     "metadata": {},
     "output_type": "execute_result"
    }
   ],
   "source": [
    "goeslc.data.temperature[0:10]"
   ]
  },
  {
   "cell_type": "code",
   "execution_count": 18,
   "metadata": {
    "collapsed": false
   },
   "outputs": [
    {
     "data": {
      "text/plain": [
       "<matplotlib.text.Text at 0x11e1adbd0>"
      ]
     },
     "execution_count": 18,
     "metadata": {},
     "output_type": "execute_result"
    },
    {
     "data": {
      "image/png": "[encoded data removed]",
      "text/plain": [
       "<matplotlib.figure.Figure at 0x11d7e3150>"
      ]
     },
     "metadata": {},
     "output_type": "display_data"
    }
   ],
   "source": [
    "plt.plot(goeslc.data.index, goeslc.data.temperature)\n",
    "plt.xlabel(\"{0}\".format(goeslc.data.index[0].strftime(\"%Y-%m-%d\")))\n",
    "plt.ylabel(\"Temperature [MK]\")"
   ]
  },
  {
   "cell_type": "code",
   "execution_count": 19,
   "metadata": {
    "collapsed": false
   },
   "outputs": [
    {
     "data": {
      "text/plain": [
       "<matplotlib.text.Text at 0x11e486e10>"
      ]
     },
     "execution_count": 19,
     "metadata": {},
     "output_type": "execute_result"
    },
    {
     "data": {
      "image/png": "[encoded data removed]",
      "text/plain": [
       "<matplotlib.figure.Figure at 0x11cb1b590>"
      ]
     },
     "metadata": {},
     "output_type": "display_data"
    }
   ],
   "source": [
    "plt.plot(goeslc.data.index, goeslc.data.em)\n",
    "plt.yscale(\"log\")\n",
    "plt.ylabel(\"Emission Measure [cm$^{-3}$]\")\n",
    "plt.xlabel(\"{0}\".format(goeslc.data.index[0].strftime(\"%Y-%m-%d\")))"
   ]
  },
  {
   "cell_type": "code",
   "execution_count": null,
   "metadata": {
    "collapsed": true
   },
   "outputs": [],
   "source": []
  }
 ],
 "metadata": {
  "kernelspec": {
   "display_name": "Python 2",
   "language": "python",
   "name": "python2"
  },
  "language_info": {
   "codemirror_mode": {
    "name": "ipython",
    "version": 2
   },
   "file_extension": ".py",
   "mimetype": "text/x-python",
   "name": "python",
   "nbconvert_exporter": "python",
   "pygments_lexer": "ipython2",
   "version": "2.7.11"
  }
 },
 "nbformat": 4,
 "nbformat_minor": 0
}
