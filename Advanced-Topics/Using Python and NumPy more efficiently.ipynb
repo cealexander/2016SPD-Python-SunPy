{
 "cells": [
  {
   "cell_type": "markdown",
   "metadata": {},
   "source": [
    "# Using Python and NumPy more efficiently\n",
    "\n",
    "As with any programming language, there are more efficient and less efficient ways to write code that has the same functional behavior.  In Python, it can be particularly jarring that `for` loops have a relatively high per-loop cost.  For simple `for` loops, there can be alternative approaches using regular Python that are both better performing and easier to read.  For numerical calculations, `NumPy` provides additional capabilities that can dramatically improve performance."
   ]
  },
  {
   "cell_type": "code",
   "execution_count": 126,
   "metadata": {
    "collapsed": true
   },
   "outputs": [],
   "source": [
    "# Math libraries\n",
    "import math\n",
    "import numpy as np"
   ]
  },
  {
   "cell_type": "code",
   "execution_count": 99,
   "metadata": {
    "collapsed": true
   },
   "outputs": [],
   "source": [
    "# Create a convenience function for using the Python `timeit` module\n",
    "import timeit\n",
    "\n",
    "def ms_from_timeit(function_as_string, argument_as_string, runs=100, repeat=10):\n",
    "    \"\"\"Returns the milliseconds per function call\"\"\"\n",
    "    timer = timeit.Timer(function_as_string+'('+argument_as_string+')',\n",
    "                         setup='from __main__ import '+function_as_string+', '+argument_as_string)\n",
    "    return min(timer.repeat(repeat, runs)) / runs * 1000"
   ]
  },
  {
   "cell_type": "markdown",
   "metadata": {},
   "source": [
    "## Calling a function on 10,000 values\n",
    "\n",
    "Let's start with a simple task: calculate the square root on 10,000 randomly generated values."
   ]
  },
  {
   "cell_type": "code",
   "execution_count": 59,
   "metadata": {
    "collapsed": false,
    "scrolled": true
   },
   "outputs": [],
   "source": [
    "# Create a list of 10000 random floats in [0, 1)\n",
    "import random\n",
    "random_list = [random.random() for i in range(10000)]"
   ]
  },
  {
   "cell_type": "markdown",
   "metadata": {},
   "source": [
    "### Using a `for` loop\n",
    "A simple implementation is to use a `for` loop to step through the input list and append each square-root value to an output list."
   ]
  },
  {
   "cell_type": "code",
   "execution_count": 102,
   "metadata": {
    "collapsed": false
   },
   "outputs": [
    {
     "name": "stdout",
     "output_type": "stream",
     "text": [
      "Using a Python loop takes 4.030 ms\n"
     ]
    }
   ],
   "source": [
    "def sqrt_python_loop(python_list):\n",
    "    result = []\n",
    "    for value in python_list:\n",
    "        result.append(math.sqrt(value))\n",
    "    return result\n",
    "\n",
    "print(\"Using a Python loop takes {0:5.3f} ms\".format(ms_from_timeit('sqrt_python_loop', 'random_list')))"
   ]
  },
  {
   "cell_type": "markdown",
   "metadata": {},
   "source": [
    "### Using list comprehension\n",
    "\n",
    "For `for` loops that only need to operate on an element-by-element basis, we can use Python's list comprehension for a significant performance boost."
   ]
  },
  {
   "cell_type": "code",
   "execution_count": 101,
   "metadata": {
    "collapsed": false
   },
   "outputs": [
    {
     "name": "stdout",
     "output_type": "stream",
     "text": [
      "Using Python list comprehension takes 2.732 ms\n"
     ]
    }
   ],
   "source": [
    "def sqrt_python_list_comprehension(python_list):\n",
    "    result = [math.sqrt(value) for value in python_list]\n",
    "    return result\n",
    "\n",
    "print(\"Using Python list comprehension takes {0:5.3f} ms\".format(ms_from_timeit('sqrt_python_list_comprehension', 'random_list')))"
   ]
  },
  {
   "cell_type": "markdown",
   "metadata": {},
   "source": [
    "### Using `map`\n",
    "\n",
    "One can also use the built-in function `map` to obtain faster performance, although it may be less readable than using list comprehension."
   ]
  },
  {
   "cell_type": "code",
   "execution_count": 100,
   "metadata": {
    "collapsed": false
   },
   "outputs": [
    {
     "name": "stdout",
     "output_type": "stream",
     "text": [
      "Using Python map takes 1.995 ms\n"
     ]
    }
   ],
   "source": [
    "def sqrt_python_map(python_list):\n",
    "    result = map(math.sqrt, python_list)\n",
    "    return result\n",
    "\n",
    "print(\"Using Python map takes {0:5.3f} ms\".format(ms_from_timeit('sqrt_python_map', 'random_list')))"
   ]
  },
  {
   "cell_type": "markdown",
   "metadata": {},
   "source": [
    "## Calling a numerical function on 10,000 numbers\n",
    "\n",
    "The above examples have significant overhead due to the adherence to \"vanilla\" Python.  For numerical calculations, use NumPy."
   ]
  },
  {
   "cell_type": "code",
   "execution_count": 124,
   "metadata": {
    "collapsed": true
   },
   "outputs": [],
   "source": [
    "# Create a NumPy ndarray equivalent for the same list of random floats\n",
    "random_ndarray = np.array(random_list)"
   ]
  },
  {
   "cell_type": "markdown",
   "metadata": {},
   "source": [
    "### Using NumPy incorrectly\n",
    "\n",
    "While NumPy is quite powerful, it's entirely possible to use it sub-optimally.  In the following example, which sticks with using `map`, the additional overhead of converting to/from NumPy ndarrays completely dominates the run time."
   ]
  },
  {
   "cell_type": "code",
   "execution_count": 123,
   "metadata": {
    "collapsed": false
   },
   "outputs": [
    {
     "name": "stdout",
     "output_type": "stream",
     "text": [
      "Using NumPy with map takes 18.031 ms\n"
     ]
    }
   ],
   "source": [
    "def sqrt_numpy_map(numpy_array):\n",
    "    result = np.array(map(np.sqrt, numpy_array))\n",
    "    return result\n",
    "\n",
    "print(\"Using NumPy with map takes {0:5.3f} ms\".format(ms_from_timeit('sqrt_numpy_map', 'random_ndarray')))"
   ]
  },
  {
   "cell_type": "markdown",
   "metadata": {},
   "source": [
    "### Using NumPy correctly\n",
    "\n",
    "Most of NumPy's functions are already designed to act element-wise on NumPy arrays, so there's actually no need to use `map`."
   ]
  },
  {
   "cell_type": "code",
   "execution_count": 103,
   "metadata": {
    "collapsed": false
   },
   "outputs": [
    {
     "name": "stdout",
     "output_type": "stream",
     "text": [
      "Using NumPy universal function takes 0.062 ms\n"
     ]
    }
   ],
   "source": [
    "def sqrt_numpy_ufunc(numpy_array):\n",
    "    result = np.sqrt(numpy_array)\n",
    "    return result\n",
    "\n",
    "print(\"Using NumPy universal function takes {0:5.3f} ms\".format(ms_from_timeit('sqrt_numpy_ufunc', 'random_ndarray')))"
   ]
  },
  {
   "cell_type": "markdown",
   "metadata": {},
   "source": [
    "## Using NumPy on two-dimensional arrays"
   ]
  },
  {
   "cell_type": "code",
   "execution_count": 94,
   "metadata": {
    "collapsed": true
   },
   "outputs": [],
   "source": [
    "# Create a 2D NumPy ndarray from the same list of random floats\n",
    "random_ndarray_2d = np.array(random_list).reshape(100, 100)"
   ]
  },
  {
   "cell_type": "code",
   "execution_count": 121,
   "metadata": {
    "collapsed": false
   },
   "outputs": [
    {
     "name": "stdout",
     "output_type": "stream",
     "text": [
      "Using NumPy avoiding `axis` takes 4.915 ms\n"
     ]
    }
   ],
   "source": [
    "def std_1d(numpy_2d_array):\n",
    "    result = np.zeros(numpy_2d_array.shape[1])\n",
    "    for index in np.arange(numpy_2d_array.shape[0]):\n",
    "        result[index] = np.std(numpy_2d_array[index, :])\n",
    "    return result\n",
    "\n",
    "print(\"Using NumPy avoiding `axis` takes {0:5.3f} ms\".format(ms_from_timeit('std_1d', 'random_ndarray_2d')))"
   ]
  },
  {
   "cell_type": "code",
   "execution_count": 122,
   "metadata": {
    "collapsed": false
   },
   "outputs": [
    {
     "name": "stdout",
     "output_type": "stream",
     "text": [
      "Using NumPy using `axis` takes 0.133 ms\n"
     ]
    }
   ],
   "source": [
    "def std_1d_axis(numpy_2d_array):\n",
    "    result = np.std(numpy_2d_array, axis=0)\n",
    "    return result\n",
    "\n",
    "print(\"Using NumPy using `axis` takes {0:5.3f} ms\".format(ms_from_timeit('std_1d_axis', 'random_ndarray_2d')))"
   ]
  },
  {
   "cell_type": "code",
   "execution_count": null,
   "metadata": {
    "collapsed": true
   },
   "outputs": [],
   "source": []
  }
 ],
 "metadata": {
  "kernelspec": {
   "display_name": "Python 2",
   "language": "python",
   "name": "python2"
  },
  "language_info": {
   "codemirror_mode": {
    "name": "ipython",
    "version": 2
   },
   "file_extension": ".py",
   "mimetype": "text/x-python",
   "name": "python",
   "nbconvert_exporter": "python",
   "pygments_lexer": "ipython2",
   "version": "2.7.11"
  }
 },
 "nbformat": 4,
 "nbformat_minor": 0
}
