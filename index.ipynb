{
 "cells": [
  {
   "cell_type": "markdown",
   "metadata": {
    "slideshow": {
     "slide_type": "slide"
    }
   },
   "source": [
    "# Introduction to Scientific Python and SunPy\n",
    "\n",
    "![](https://raw.githubusercontent.com/sunpy/sunpy-logo/master/generated/sunpy_logo_long_800x380.png)"
   ]
  },
  {
   "cell_type": "markdown",
   "metadata": {
    "slideshow": {
     "slide_type": "slide"
    }
   },
   "source": [
    "# Installing Python\n",
    "\n",
    "We are going to spend the first 15 minutes of the Tuesday session getting you up and running with a Python installation.\n",
    "\n",
    "We *strongly* recommend you use [Anaconda](https://www.continuum.io/downloads) a python distribution and packacking system. We recommend that you choose Python 3.\n",
    "\n",
    "To install SunPy:\n",
    "\n",
    "* Install Anaconda\n",
    "* Run: `conda config --add channels conda-forge`\n",
    "* Run: `conda install sunpy`\n",
    "\n",
    "You can find more information in the [SunPy installation docs](http://docs.sunpy.org/en/stable/guide/installation/index.html#installing-scientific-python-and-sunpy). "
   ]
  },
  {
   "cell_type": "markdown",
   "metadata": {
    "slideshow": {
     "slide_type": "slide"
    }
   },
   "source": [
    "# Background\n",
    "\n",
    "The core scientific Python stack consists of the following \n",
    "+ [NumPy](http://numpy.org) - [docs](http://docs.scipy.org/doc/numpy/reference/index.html#reference)\n",
    "+ [SciPy](http://scipy.org) - [docs](http://docs.scipy.org/doc/scipy/reference/)\n",
    "+ [matplotlib](http://matplotlib.org) - [docs](http://matplotlib.org/contents.html)\n",
    "+ [Pandas](http://pandas.pydata.org) - [docs](http://pandas.pydata.org/pandas-docs/version/0.18.1/)\n",
    "\n",
    "as well as\n",
    "\n",
    "+ [AstroPy](http://astropy.org) - [docs](http://docs.astropy.org/en/stable/)"
   ]
  },
  {
   "cell_type": "markdown",
   "metadata": {
    "slideshow": {
     "slide_type": "slide"
    }
   },
   "source": [
    "# Recommended Python Tools\n",
    "\n",
    "These are some editors or applications that you might find useful, we will be using the Jupyter Notebook for these sessions.\n",
    "\n",
    "+ [Anaconda](https://www.continuum.io/downloads) - Python distribution and packaging system (the only way to fly!)\n",
    "+ [PyCharm](https://www.jetbrains.com/pycharm/) - Python IDE\n",
    "+ [atom](https://atom.io) - Text editor for code\n",
    "+ [Jupyter notebook](http://jupyter.org) - Available with anaconda, [docs](http://jupyter.readthedocs.io/en/latest/index.html)\n",
    "+ [Spyder](https://pythonhosted.org/spyder/) - Python IDE (included with anaconda)"
   ]
  },
  {
   "cell_type": "markdown",
   "metadata": {
    "slideshow": {
     "slide_type": "slide"
    }
   },
   "source": [
    "# An Introduction to Scientific Python\n",
    "### *Tuesday 31st May 2016*\n",
    "\n",
    "If you have not got a working Python installation click [here](http://mybinder.org/repo/sunpy/2016SPD-Python-SunPy/)!\n",
    "\n",
    "In this session we are going to work through the following notebooks:\n",
    "\n",
    "1. [Calculating $\\pi$](./Python-Intro/Introducing pi.ipynb): An introduction to loops, functions and plotting.\n",
    "1. [Spectral Line Fitting](./Python-Intro/python_tutorial_fitting_a_spectral_line.ipynb): Gaussian fitting of a spectral line."
   ]
  }
 ],
 "metadata": {
  "celltoolbar": "Slideshow",
  "kernelspec": {
   "display_name": "Python 3",
   "language": "python",
   "name": "python3"
  },
  "language_info": {
   "codemirror_mode": {
    "name": "ipython",
    "version": 3
   },
   "file_extension": ".py",
   "mimetype": "text/x-python",
   "name": "python",
   "nbconvert_exporter": "python",
   "pygments_lexer": "ipython3",
   "version": "3.5.1"
  }
 },
 "nbformat": 4,
 "nbformat_minor": 0
}
